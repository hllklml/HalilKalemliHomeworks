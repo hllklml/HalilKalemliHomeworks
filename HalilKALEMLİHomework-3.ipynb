{
 "cells": [
  {
   "cell_type": "code",
   "execution_count": 11,
   "metadata": {},
   "outputs": [
    {
     "name": "stdout",
     "output_type": "stream",
     "text": [
      "lutfen bir sayi giriniz\n",
      "5\n",
      "yanlış sayı girdiniz lütfen [1,3] bir değer giriniz\n"
     ]
    }
   ],
   "source": [
    "print(\"lutfen bir sayi giriniz\")\n",
    "sayi1=int(input(\"\"))\n",
    "if sayi1==1:\n",
    "    print(\"bu kisimda hipotenus hesaplanacak\")\n",
    "    sayi2=int(input(\"ucgenin bir kenarini giriniz\"))\n",
    "    sayi3=int(input(\"ucgenin bir kenarini daha giriniz\"))\n",
    "    hipotenus=((sayi2**2)+(sayi3**2))**(1/2)\n",
    "    print(\"hipotenus=\", hipotenus)\n",
    "elif sayi1==2:\n",
    "        print(\"bir sayi giriniz\")\n",
    "        sayi4=int(input(\"1 den başlayıp girdininiz sayıya kadar gidecektir\"))\n",
    "        i=0\n",
    "        while i<=sayi4:\n",
    "            print(i)\n",
    "            i+=1\n",
    "elif sayi1==3:\n",
    "    sayi5=int(input(\"bir sayi daha giriniz\"))\n",
    "    sayi6=int(input(\"bir sayi daha giriniz\"))\n",
    "    sayi7=int(input(\"bir sayi daha giriniz\"))\n",
    "    sayi8=int(input(\"bir sayi daha giriniz\"))\n",
    "    sayi9=int(input(\"bir sayi daha giriniz\"))\n",
    "    sayi10=int(input(\"bir sayi daha giriniz\"))\n",
    "    aritmetikort=(sayi5+sayi6+sayi7+sayi8+sayi9+sayi10)/6\n",
    "    print(\"aritmetikort=\",aritmetikort)\n",
    "            \n",
    "else:\n",
    "    print(\"yanlış sayı girdiniz lütfen [1,3] bir değer giriniz\")\n",
    "    \n",
    "    "
   ]
  },
  {
   "cell_type": "code",
   "execution_count": null,
   "metadata": {},
   "outputs": [],
   "source": []
  },
  {
   "cell_type": "code",
   "execution_count": null,
   "metadata": {},
   "outputs": [],
   "source": []
  }
 ],
 "metadata": {
  "kernelspec": {
   "display_name": "Python 3",
   "language": "python",
   "name": "python3"
  },
  "language_info": {
   "codemirror_mode": {
    "name": "ipython",
    "version": 3
   },
   "file_extension": ".py",
   "mimetype": "text/x-python",
   "name": "python",
   "nbconvert_exporter": "python",
   "pygments_lexer": "ipython3",
   "version": "3.6.7"
  }
 },
 "nbformat": 4,
 "nbformat_minor": 2
}
